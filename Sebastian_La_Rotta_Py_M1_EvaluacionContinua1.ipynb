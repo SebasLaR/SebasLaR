{
  "nbformat": 4,
  "nbformat_minor": 0,
  "metadata": {
    "colab": {
      "provenance": [],
      "include_colab_link": true
    },
    "kernelspec": {
      "name": "python3",
      "display_name": "Python 3"
    },
    "language_info": {
      "name": "python"
    }
  },
  "cells": [
    {
      "cell_type": "markdown",
      "metadata": {
        "id": "view-in-github",
        "colab_type": "text"
      },
      "source": [
        "<a href=\"https://colab.research.google.com/github/SebasLaR/SebasLaR/blob/main/Sebastian_La_Rotta_Py_M1_EvaluacionContinua1.ipynb\" target=\"_parent\"><img src=\"https://colab.research.google.com/assets/colab-badge.svg\" alt=\"Open In Colab\"/></a>"
      ]
    },
    {
      "cell_type": "markdown",
      "source": [
        "# Exploración del dataframe"
      ],
      "metadata": {
        "id": "_lPYpsGedr2J"
      }
    },
    {
      "cell_type": "markdown",
      "source": [
        "# 🏦 Caso: Marketing bancario (Portugal)\n",
        "\n",
        "**Objetivo:** explorar los datos para entender quién dice **“sí”** al depósito a plazo (**y**)."
      ],
      "metadata": {
        "id": "_Qgaq9eZb7QI"
      }
    },
    {
      "cell_type": "markdown",
      "source": [
        "## 📑 Significado de cada columna\n",
        "\n",
        "**Cliente**\n",
        "\n",
        "* **age**: edad del cliente (años).\n",
        "* **job**: tipo de trabajo (ej.: admin., blue-collar, management, student, etc.).\n",
        "* **marital**: estado civil (divorced, married, single, unknown).\n",
        "* **education**: nivel educativo (basic 4y/6y/9y, high.school, illiterate, professional.course, university.degree, unknown).\n",
        "* **default**: ¿tiene crédito en mora? (yes/no/unknown).\n",
        "* **housing**: ¿tiene préstamo de vivienda? (yes/no/unknown).\n",
        "* **loan**: ¿tiene préstamo personal? (yes/no/unknown).\n",
        "\n",
        "**Contacto actual**\n",
        "\n",
        "* **contact**: tipo de contacto (cellular/telephone).\n",
        "* **month**: mes del último contacto (jan…dec).\n",
        "* **day_of_week**: día de la semana (mon…fri).\n",
        "* **duration**: duración de la llamada (segundos).\n",
        "\n",
        "**Historial de campañas**\n",
        "\n",
        "* **campaign**: nº de contactos en **esta** campaña (incluye el último).\n",
        "* **pdays**: días desde el último contacto de campañas anteriores (999 = nunca contactado).\n",
        "* **previous**: nº de contactos en campañas previas.\n",
        "* **poutcome**: resultado de la campaña previa (failure/nonexistent/success).\n",
        "\n",
        "**Contexto económico**\n",
        "\n",
        "* **emp.var.rate**: variación del empleo (trimestral).\n",
        "* **cons.price.idx**: índice de precios al consumidor (mensual).\n",
        "* **cons.conf.idx**: índice de confianza del consumidor (mensual).\n",
        "* **euribor3m**: tasa Euribor a 3 meses (diaria).\n",
        "* **nr.employed**: nº de empleados (trimestral).\n",
        "\n",
        "**Meta**\n",
        "\n",
        "* **y**: ¿suscribió el depósito a plazo? (yes/no)."
      ],
      "metadata": {
        "id": "PEHWek_QdhKJ"
      }
    },
    {
      "cell_type": "markdown",
      "source": [
        "Fuente: [Kaggle](https://www.kaggle.com/datasets/henriqueyamahata/bank-marketing/data)"
      ],
      "metadata": {
        "id": "XZ4R5PWleYlF"
      }
    },
    {
      "cell_type": "code",
      "execution_count": null,
      "metadata": {
        "id": "2iF0TT8uQnAv"
      },
      "outputs": [],
      "source": [
        "import pandas as pd"
      ]
    },
    {
      "cell_type": "code",
      "source": [
        "link = \"https://raw.githubusercontent.com/SergioDP94/CreditScoring/refs/heads/main/Data/bank-additional-full.csv\"\n",
        "data = pd.read_csv(link,sep=\";\")"
      ],
      "metadata": {
        "id": "_FX33TmrdjAg"
      },
      "execution_count": null,
      "outputs": []
    },
    {
      "cell_type": "code",
      "source": [
        "data.info()"
      ],
      "metadata": {
        "colab": {
          "base_uri": "https://localhost:8080/"
        },
        "id": "GZba-128fRRd",
        "outputId": "91482c04-0d83-4da6-eae2-6cecfa5850d3"
      },
      "execution_count": null,
      "outputs": [
        {
          "output_type": "stream",
          "name": "stdout",
          "text": [
            "<class 'pandas.core.frame.DataFrame'>\n",
            "RangeIndex: 41188 entries, 0 to 41187\n",
            "Data columns (total 21 columns):\n",
            " #   Column          Non-Null Count  Dtype  \n",
            "---  ------          --------------  -----  \n",
            " 0   age             41188 non-null  int64  \n",
            " 1   job             41188 non-null  object \n",
            " 2   marital         41188 non-null  object \n",
            " 3   education       41188 non-null  object \n",
            " 4   default         41188 non-null  object \n",
            " 5   housing         41188 non-null  object \n",
            " 6   loan            41188 non-null  object \n",
            " 7   contact         41188 non-null  object \n",
            " 8   month           41188 non-null  object \n",
            " 9   day_of_week     41188 non-null  object \n",
            " 10  duration        41188 non-null  int64  \n",
            " 11  campaign        41188 non-null  int64  \n",
            " 12  pdays           41188 non-null  int64  \n",
            " 13  previous        41188 non-null  int64  \n",
            " 14  poutcome        41188 non-null  object \n",
            " 15  emp.var.rate    41188 non-null  float64\n",
            " 16  cons.price.idx  41188 non-null  float64\n",
            " 17  cons.conf.idx   41188 non-null  float64\n",
            " 18  euribor3m       41188 non-null  float64\n",
            " 19  nr.employed     41188 non-null  float64\n",
            " 20  y               41188 non-null  object \n",
            "dtypes: float64(5), int64(5), object(11)\n",
            "memory usage: 6.6+ MB\n"
          ]
        }
      ]
    },
    {
      "cell_type": "markdown",
      "source": [
        "## 1. ¿Cuántas filas y columnas tiene el dataset?\n",
        "- Objetivo: identificar el tamaño y dimensión de los datos disponibles."
      ],
      "metadata": {
        "id": "2Pj88ruxuRsL"
      }
    },
    {
      "cell_type": "code",
      "source": [],
      "metadata": {
        "colab": {
          "base_uri": "https://localhost:8080/"
        },
        "id": "V-xjogQYucdB",
        "outputId": "80968b55-899a-4772-ff71-34fa827959b8"
      },
      "execution_count": null,
      "outputs": [
        {
          "output_type": "stream",
          "name": "stdout",
          "text": [
            "Hay 41188 de filas\n"
          ]
        }
      ]
    },
    {
      "cell_type": "code",
      "source": [],
      "metadata": {
        "colab": {
          "base_uri": "https://localhost:8080/"
        },
        "id": "YsgMDySi6Rsy",
        "outputId": "b24473af-fa00-48ff-83be-dd870e38b723"
      },
      "execution_count": null,
      "outputs": [
        {
          "output_type": "stream",
          "name": "stdout",
          "text": [
            "Hay 41188 filas\n",
            "Hay 21 columnas\n"
          ]
        }
      ]
    },
    {
      "cell_type": "markdown",
      "source": [
        "## 2. ¿Qué tipos de variables contiene (numéricas, categóricas, objetivo)?\n",
        "- Objetivo: diferenciar entre variables cuantitativas y cualitativas.\n",
        "- Pistas: revisar `dtypes` y contar cuántas columnas son `int`, `float` o `object`.\n",
        "\n",
        "---"
      ],
      "metadata": {
        "id": "O0SsXeUdueoJ"
      }
    },
    {
      "cell_type": "code",
      "source": [],
      "metadata": {
        "id": "eWgf08Px7wC_"
      },
      "execution_count": null,
      "outputs": []
    },
    {
      "cell_type": "markdown",
      "source": [
        "## 3. ¿Existen valores faltantes? ¿En qué variables y cuántos son?\n",
        "- Objetivo: identificar la presencia de `NaN` y su distribución.\n"
      ],
      "metadata": {
        "id": "F9O_OQt-uhFx"
      }
    },
    {
      "cell_type": "code",
      "source": [],
      "metadata": {
        "id": "Mj3zCjPvDokl"
      },
      "execution_count": null,
      "outputs": []
    },
    {
      "cell_type": "markdown",
      "source": [
        "## 4. ¿Cuál es la distribución de la variable objetivo `y`?"
      ],
      "metadata": {
        "id": "jYElAd-2undo"
      }
    },
    {
      "cell_type": "code",
      "source": [],
      "metadata": {
        "id": "nJBIjjGGunvY"
      },
      "execution_count": null,
      "outputs": []
    },
    {
      "cell_type": "markdown",
      "source": [
        "## 5. ¿Cómo se distribuyen las variables numéricas principales?"
      ],
      "metadata": {
        "id": "vxERXxuOuqhZ"
      }
    },
    {
      "cell_type": "code",
      "source": [],
      "metadata": {
        "id": "4r2ewsQluquw"
      },
      "execution_count": null,
      "outputs": []
    },
    {
      "cell_type": "markdown",
      "source": [
        "## 6. ¿Qué categorías existen en las variables cualitativas?"
      ],
      "metadata": {
        "id": "1-kBCOrYuujo"
      }
    },
    {
      "cell_type": "code",
      "source": [],
      "metadata": {
        "id": "7h1Yh9yruu1B"
      },
      "execution_count": null,
      "outputs": []
    },
    {
      "cell_type": "markdown",
      "source": [
        "## 7. ¿Hay relaciones interesantes entre variables categóricas y la variable objetivo?\n"
      ],
      "metadata": {
        "id": "VM939HVruyUA"
      }
    },
    {
      "cell_type": "code",
      "source": [],
      "metadata": {
        "id": "Dr73eeLSuygV"
      },
      "execution_count": null,
      "outputs": []
    },
    {
      "cell_type": "markdown",
      "source": [
        "## 8. ¿Hay relaciones interesantes entre variables numericas y la variable objetivo?\n"
      ],
      "metadata": {
        "id": "KsOwD9Ofuz8o"
      }
    },
    {
      "cell_type": "code",
      "source": [],
      "metadata": {
        "id": "Gy0LUKkFu0SZ"
      },
      "execution_count": null,
      "outputs": []
    },
    {
      "cell_type": "markdown",
      "source": [
        "## 9. ¿Qué correlaciones existen entre las variables numéricas?\n",
        "- Objetivo: calcular la **matriz de correlación** y visualizarla con un mapa de calor.\n"
      ],
      "metadata": {
        "id": "6izHvZXWu1qS"
      }
    },
    {
      "cell_type": "code",
      "source": [],
      "metadata": {
        "id": "uY0s7F6Mu12A"
      },
      "execution_count": null,
      "outputs": []
    },
    {
      "cell_type": "markdown",
      "source": [
        "## 10. ¿Se observan outliers en variables numéricas?"
      ],
      "metadata": {
        "id": "b6ffPrg3u4kp"
      }
    },
    {
      "cell_type": "code",
      "source": [],
      "metadata": {
        "id": "JOsXL4zOu38o"
      },
      "execution_count": null,
      "outputs": []
    }
  ]
}